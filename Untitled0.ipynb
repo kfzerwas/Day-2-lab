{
  "nbformat": 4,
  "nbformat_minor": 0,
  "metadata": {
    "colab": {
      "name": "Untitled0.ipynb",
      "provenance": []
    },
    "kernelspec": {
      "name": "python3",
      "display_name": "Python 3"
    },
    "language_info": {
      "name": "python"
    }
  },
  "cells": [
    {
      "cell_type": "code",
      "metadata": {
        "colab": {
          "base_uri": "https://localhost:8080/"
        },
        "id": "09RF2o9UmSxb",
        "outputId": "1e91a5b2-292a-4daa-aef8-b628a23cbc8c"
      },
      "source": [
        "a=10\n",
        "b=3.14\n",
        "c = \"machine learning\"\n",
        "d = 'hi'\n",
        "e = 'x'\n",
        "f = [1,2,3]\n",
        "print(a,b,c,d,e,f)\n",
        "\n"
      ],
      "execution_count": null,
      "outputs": [
        {
          "output_type": "stream",
          "name": "stdout",
          "text": [
            "10 3.14 machine learning hi x [1, 2, 3]\n"
          ]
        }
      ]
    },
    {
      "cell_type": "code",
      "metadata": {
        "colab": {
          "base_uri": "https://localhost:8080/"
        },
        "id": "n7ri85p5m-PZ",
        "outputId": "d6538fd3-6740-4c36-a0e4-ea491b57949a"
      },
      "source": [
        "print(\"a's type:\", type(a))\n",
        "a = 'variables can change types'\n",
        "print(\"a's type:\", type(a))\n",
        "print(type(b))\n",
        "print(type(c))\n",
        "print(type(d))\n",
        "print(type(e))\n",
        "print(type(f))"
      ],
      "execution_count": null,
      "outputs": [
        {
          "output_type": "stream",
          "name": "stdout",
          "text": [
            "a's type: <class 'int'>\n",
            "a's type: <class 'str'>\n",
            "<class 'float'>\n",
            "<class 'str'>\n",
            "<class 'str'>\n",
            "<class 'str'>\n",
            "<class 'list'>\n"
          ]
        }
      ]
    },
    {
      "cell_type": "code",
      "metadata": {
        "colab": {
          "base_uri": "https://localhost:8080/"
        },
        "id": "i5kIBbmsnEUN",
        "outputId": "fccd7c19-d9ea-484e-d01d-726a0858d957"
      },
      "source": [
        "x = [1,2,3] \n",
        "y=x\n",
        "x[0] = \"abc\" \n",
        "print(y) \n",
        "#before you run, what will the value of y[0] be?"
      ],
      "execution_count": null,
      "outputs": [
        {
          "output_type": "stream",
          "name": "stdout",
          "text": [
            "['abc', 2, 3]\n"
          ]
        }
      ]
    },
    {
      "cell_type": "code",
      "metadata": {
        "colab": {
          "base_uri": "https://localhost:8080/"
        },
        "id": "WkCymDOsnMq5",
        "outputId": "427ab941-d4b2-4a8c-a071-db95318c674c"
      },
      "source": [
        "z = x[1]\n",
        "x[1] = \"what\"\n",
        "print(x)\n",
        "print(z)\n",
        "x.append(70)\n",
        "x.insert(2,90)\n",
        "print(x)"
      ],
      "execution_count": null,
      "outputs": [
        {
          "output_type": "stream",
          "name": "stdout",
          "text": [
            "['abc', 'what', 3]\n",
            "2\n",
            "['abc', 'what', 90, 3, 70]\n"
          ]
        }
      ]
    },
    {
      "cell_type": "code",
      "metadata": {
        "colab": {
          "base_uri": "https://localhost:8080/"
        },
        "id": "Qw6kL7oCnRId",
        "outputId": "86c61845-2148-4fb1-fdb5-4be1c5911a5c"
      },
      "source": [
        "print( x.index(90) )\n",
        "print( len(x) )\n",
        "print( x+x )"
      ],
      "execution_count": null,
      "outputs": [
        {
          "output_type": "stream",
          "name": "stdout",
          "text": [
            "2\n",
            "5\n",
            "['abc', 'what', 90, 3, 70, 'abc', 'what', 90, 3, 70]\n"
          ]
        }
      ]
    },
    {
      "cell_type": "code",
      "metadata": {
        "colab": {
          "base_uri": "https://localhost:8080/"
        },
        "id": "pW4B7VR_nUKJ",
        "outputId": "6f412ffa-8c75-4194-ccf0-9006f327238e"
      },
      "source": [
        "my_list = [33, 55, 'hello','R2D2',7.8,'banana']\n",
        "print( my_list[1:5] )\n",
        "print( my_list[:4])\n",
        "print( my_list[4:])\n",
        "print( my_list[:])\n"
      ],
      "execution_count": null,
      "outputs": [
        {
          "output_type": "stream",
          "name": "stdout",
          "text": [
            "[55, 'hello', 'R2D2', 7.8]\n",
            "[33, 55, 'hello', 'R2D2']\n",
            "[7.8, 'banana']\n",
            "[33, 55, 'hello', 'R2D2', 7.8, 'banana']\n"
          ]
        }
      ]
    },
    {
      "cell_type": "code",
      "metadata": {
        "colab": {
          "base_uri": "https://localhost:8080/"
        },
        "id": "61iNRiyonUxR",
        "outputId": "b16b1055-20a3-4da6-9b77-6b0bb223549b"
      },
      "source": [
        "my_slice = my_list[1:5]\n",
        "my_slice[2] = 'what'\n",
        "print(my_slice)\n",
        "print(my_list)\n",
        "print(my_list[1:5] + 2*['Drake','University'])\n",
        "my_list[:0] = ['Bulldogs']\n",
        "print(my_list)\n",
        "# why isn't \"Drake\" or \"University\" printed out in this last line?\n"
      ],
      "execution_count": null,
      "outputs": [
        {
          "output_type": "stream",
          "name": "stdout",
          "text": [
            "[55, 'hello', 'what', 7.8]\n",
            "[33, 55, 'hello', 'R2D2', 7.8, 'banana']\n",
            "[55, 'hello', 'R2D2', 7.8, 'Drake', 'University', 'Drake', 'University']\n",
            "['Bulldogs', 33, 55, 'hello', 'R2D2', 7.8, 'banana']\n"
          ]
        }
      ]
    },
    {
      "cell_type": "code",
      "metadata": {
        "colab": {
          "base_uri": "https://localhost:8080/"
        },
        "id": "IQilJgsBnZPV",
        "outputId": "499d28ca-8489-4f78-f434-27986d682ffc"
      },
      "source": [
        "my_list = [42, 3.14, 'hello', ['ice', 'ice', 'baby']]\n",
        "print(my_list[3][2])\n",
        "print(my_list[2][1])\n",
        "# wait, what? \n",
        "# explain what is happening here"
      ],
      "execution_count": null,
      "outputs": [
        {
          "output_type": "stream",
          "name": "stdout",
          "text": [
            "baby\n",
            "e\n"
          ]
        }
      ]
    },
    {
      "cell_type": "code",
      "metadata": {
        "colab": {
          "base_uri": "https://localhost:8080/"
        },
        "id": "geAz7WCnnbZV",
        "outputId": "c42a9cc1-775e-4bcf-e6ac-9f7934127120"
      },
      "source": [
        "my_tuple = (100,200,'300')\n",
        "print(my_tuple[1])                  #can't change tuples\n",
        "my_dictionary = {'x':42, 'y':3.14}  #must reference x or y\n",
        "print(my_dictionary['x'])\n"
      ],
      "execution_count": null,
      "outputs": [
        {
          "output_type": "stream",
          "name": "stdout",
          "text": [
            "200\n",
            "42\n"
          ]
        }
      ]
    },
    {
      "cell_type": "code",
      "metadata": {
        "colab": {
          "base_uri": "https://localhost:8080/",
          "height": 197
        },
        "id": "ifbAdAZhnez-",
        "outputId": "ec32d8c6-6b18-4cd6-b8a9-ee1dd7fbef81"
      },
      "source": [
        "print(my_list[1][2])\n",
        "my_tuple[1] = 0\n",
        "print(my_dictionary[1])\n"
      ],
      "execution_count": null,
      "outputs": [
        {
          "output_type": "error",
          "ename": "TypeError",
          "evalue": "ignored",
          "traceback": [
            "\u001b[0;31m---------------------------------------------------------------------------\u001b[0m",
            "\u001b[0;31mTypeError\u001b[0m                                 Traceback (most recent call last)",
            "\u001b[0;32m<ipython-input-13-71566c8eb546>\u001b[0m in \u001b[0;36m<module>\u001b[0;34m()\u001b[0m\n\u001b[0;32m----> 1\u001b[0;31m \u001b[0mprint\u001b[0m\u001b[0;34m(\u001b[0m\u001b[0mmy_list\u001b[0m\u001b[0;34m[\u001b[0m\u001b[0;36m1\u001b[0m\u001b[0;34m]\u001b[0m\u001b[0;34m[\u001b[0m\u001b[0;36m2\u001b[0m\u001b[0;34m]\u001b[0m\u001b[0;34m)\u001b[0m\u001b[0;34m\u001b[0m\u001b[0;34m\u001b[0m\u001b[0m\n\u001b[0m\u001b[1;32m      2\u001b[0m \u001b[0mmy_tuple\u001b[0m\u001b[0;34m[\u001b[0m\u001b[0;36m1\u001b[0m\u001b[0;34m]\u001b[0m \u001b[0;34m=\u001b[0m \u001b[0;36m0\u001b[0m\u001b[0;34m\u001b[0m\u001b[0;34m\u001b[0m\u001b[0m\n\u001b[1;32m      3\u001b[0m \u001b[0mprint\u001b[0m\u001b[0;34m(\u001b[0m\u001b[0mmy_dictionary\u001b[0m\u001b[0;34m[\u001b[0m\u001b[0;36m1\u001b[0m\u001b[0;34m]\u001b[0m\u001b[0;34m)\u001b[0m\u001b[0;34m\u001b[0m\u001b[0;34m\u001b[0m\u001b[0m\n",
            "\u001b[0;31mTypeError\u001b[0m: 'float' object is not subscriptable"
          ]
        }
      ]
    },
    {
      "cell_type": "code",
      "metadata": {
        "colab": {
          "base_uri": "https://localhost:8080/"
        },
        "id": "3FrDimGEq4Vl",
        "outputId": "26f29d42-25ff-484d-b266-ed22cc2f5613"
      },
      "source": [
        "# If statements and for loops\n",
        "x = int(input())\n",
        "if x < 0:\n",
        "    print(\"x is negative\")\n",
        "elif x % 2:\n",
        "    print(\"x is positive and odd\")\n",
        "else:\n",
        "    print(\"x is even and nonnegative\")\n",
        "\n",
        "num_list = [3, 7, 9,17, 2]\n",
        "for num in num_list:\n",
        "    print(num)\n",
        "\n",
        "print(range(10,20))\n",
        "for n in range(10,20):\n",
        "    print(n)"
      ],
      "execution_count": null,
      "outputs": [
        {
          "output_type": "stream",
          "name": "stdout",
          "text": [
            "5\n",
            "x is positive and odd\n",
            "3\n",
            "7\n",
            "9\n",
            "17\n",
            "2\n",
            "range(10, 20)\n",
            "10\n",
            "11\n",
            "12\n",
            "13\n",
            "14\n",
            "15\n",
            "16\n",
            "17\n",
            "18\n",
            "19\n"
          ]
        }
      ]
    },
    {
      "cell_type": "code",
      "metadata": {
        "id": "Ko47co3lq6V4"
      },
      "source": [
        ""
      ],
      "execution_count": null,
      "outputs": []
    },
    {
      "cell_type": "code",
      "metadata": {
        "colab": {
          "base_uri": "https://localhost:8080/"
        },
        "id": "RBQvGPHBq66t",
        "outputId": "2f949a3a-5bad-4a9f-b15c-03fc5e2f666c"
      },
      "source": [
        "# iterating Through Data\n",
        "my_data = [5.3, 3.2, 4.1, 5.9, 6.7, 3.5]\n",
        "# method 1\n",
        "for element in my_data:\n",
        "    print(element)\n",
        "\n",
        "# method 2\n",
        "for idx in range(len(my_data)):\n",
        "    print(my_data[idx])"
      ],
      "execution_count": null,
      "outputs": [
        {
          "output_type": "stream",
          "name": "stdout",
          "text": [
            "5.3\n",
            "3.2\n",
            "4.1\n",
            "5.9\n",
            "6.7\n",
            "3.5\n",
            "5.3\n",
            "3.2\n",
            "4.1\n",
            "5.9\n",
            "6.7\n",
            "3.5\n"
          ]
        }
      ]
    },
    {
      "cell_type": "code",
      "metadata": {
        "id": "aG8pGwIKq-nt"
      },
      "source": [
        "# Explain why these won't work:\n",
        "my_data = [5.3, 3.2, 4.1, 5.9, 6.7, 3.5]\n",
        "for i in my_data:\n",
        "    print( my_data[i] )  #because my_data[i] is an index and i is not an index it is a value like 5.3. Make it print (i)\n",
        "\n",
        "for i in range(len(my_data)):  #this will print 0,1,2,3,4  needs to be print(my_data[i])\n",
        "    print( i )\n",
        "\n",
        "for i in range(my_data):      #need len(my_data) to show how long to loop\n",
        "    print( my_data[i] )\n"
      ],
      "execution_count": null,
      "outputs": []
    },
    {
      "cell_type": "code",
      "metadata": {
        "id": "-m7f0HPGrAe_"
      },
      "source": [
        "import pandas"
      ],
      "execution_count": null,
      "outputs": []
    },
    {
      "cell_type": "code",
      "metadata": {
        "colab": {
          "base_uri": "https://localhost:8080/"
        },
        "id": "2azfNjvurDNl",
        "outputId": "3b5d4755-8eb0-49bb-a1ae-c99d930aae9f"
      },
      "source": [
        "import pandas as pd\n",
        "# The first step is to mount your Google Drive to your Colab account. \n",
        "#You will be asked to authorize Colab to access your Google Drive. Follow the steps they lead you throuh.\n",
        "\n",
        "from google.colab import drive\n",
        "drive.mount('/content/drive')"
      ],
      "execution_count": null,
      "outputs": [
        {
          "output_type": "stream",
          "name": "stdout",
          "text": [
            "Mounted at /content/drive\n"
          ]
        }
      ]
    },
    {
      "cell_type": "code",
      "metadata": {
        "colab": {
          "base_uri": "https://localhost:8080/",
          "height": 204
        },
        "id": "0bIhbBCErFG0",
        "outputId": "10d0e1bb-152a-4d4e-ce58-62ed29210e8d"
      },
      "source": [
        "#Download the restaurant data (it's in Blackboard under 'datasets'), and put it in your Google Drive. Make a note of the path\n",
        "#I would suggest creating a datasets folder somewhere easy to get to, we'll be using this a lot.\n",
        "# your path will look like '/content/drive/MyDrive/....wherever you put the data'\n",
        "\n",
        "#change the following line so that it points to where you put restaurant.csv.\n",
        "data = pd.read_csv('/content/drive/MyDrive/CS167/datasets/restaurant.csv')\n",
        "data.head()\n"
      ],
      "execution_count": null,
      "outputs": [
        {
          "output_type": "execute_result",
          "data": {
            "text/html": [
              "<div>\n",
              "<style scoped>\n",
              "    .dataframe tbody tr th:only-of-type {\n",
              "        vertical-align: middle;\n",
              "    }\n",
              "\n",
              "    .dataframe tbody tr th {\n",
              "        vertical-align: top;\n",
              "    }\n",
              "\n",
              "    .dataframe thead th {\n",
              "        text-align: right;\n",
              "    }\n",
              "</style>\n",
              "<table border=\"1\" class=\"dataframe\">\n",
              "  <thead>\n",
              "    <tr style=\"text-align: right;\">\n",
              "      <th></th>\n",
              "      <th>alt</th>\n",
              "      <th>bar</th>\n",
              "      <th>fri</th>\n",
              "      <th>hun</th>\n",
              "      <th>pat</th>\n",
              "      <th>price</th>\n",
              "      <th>rain</th>\n",
              "      <th>res</th>\n",
              "      <th>type</th>\n",
              "      <th>est</th>\n",
              "      <th>target</th>\n",
              "    </tr>\n",
              "  </thead>\n",
              "  <tbody>\n",
              "    <tr>\n",
              "      <th>0</th>\n",
              "      <td>Yes</td>\n",
              "      <td>No</td>\n",
              "      <td>No</td>\n",
              "      <td>Yes</td>\n",
              "      <td>Some</td>\n",
              "      <td>$$$</td>\n",
              "      <td>No</td>\n",
              "      <td>Yes</td>\n",
              "      <td>French</td>\n",
              "      <td>0-10</td>\n",
              "      <td>Yes</td>\n",
              "    </tr>\n",
              "    <tr>\n",
              "      <th>1</th>\n",
              "      <td>Yes</td>\n",
              "      <td>No</td>\n",
              "      <td>No</td>\n",
              "      <td>Yes</td>\n",
              "      <td>Full</td>\n",
              "      <td>$</td>\n",
              "      <td>No</td>\n",
              "      <td>No</td>\n",
              "      <td>Thai</td>\n",
              "      <td>30-60</td>\n",
              "      <td>No</td>\n",
              "    </tr>\n",
              "    <tr>\n",
              "      <th>2</th>\n",
              "      <td>No</td>\n",
              "      <td>Yes</td>\n",
              "      <td>No</td>\n",
              "      <td>No</td>\n",
              "      <td>Some</td>\n",
              "      <td>$</td>\n",
              "      <td>No</td>\n",
              "      <td>No</td>\n",
              "      <td>Burger</td>\n",
              "      <td>0-10</td>\n",
              "      <td>Yes</td>\n",
              "    </tr>\n",
              "    <tr>\n",
              "      <th>3</th>\n",
              "      <td>Yes</td>\n",
              "      <td>No</td>\n",
              "      <td>Yes</td>\n",
              "      <td>Yes</td>\n",
              "      <td>Full</td>\n",
              "      <td>$</td>\n",
              "      <td>No</td>\n",
              "      <td>No</td>\n",
              "      <td>Thai</td>\n",
              "      <td>10-30</td>\n",
              "      <td>Yes</td>\n",
              "    </tr>\n",
              "    <tr>\n",
              "      <th>4</th>\n",
              "      <td>Yes</td>\n",
              "      <td>No</td>\n",
              "      <td>Yes</td>\n",
              "      <td>No</td>\n",
              "      <td>Full</td>\n",
              "      <td>$$$</td>\n",
              "      <td>No</td>\n",
              "      <td>Yes</td>\n",
              "      <td>French</td>\n",
              "      <td>&gt;60</td>\n",
              "      <td>No</td>\n",
              "    </tr>\n",
              "  </tbody>\n",
              "</table>\n",
              "</div>"
            ],
            "text/plain": [
              "   alt  bar  fri  hun   pat price rain  res    type    est target\n",
              "0  Yes   No   No  Yes  Some   $$$   No  Yes  French   0-10    Yes\n",
              "1  Yes   No   No  Yes  Full     $   No   No    Thai  30-60     No\n",
              "2   No  Yes   No   No  Some     $   No   No  Burger   0-10    Yes\n",
              "3  Yes   No  Yes  Yes  Full     $   No   No    Thai  10-30    Yes\n",
              "4  Yes   No  Yes   No  Full   $$$   No  Yes  French    >60     No"
            ]
          },
          "metadata": {},
          "execution_count": 18
        }
      ]
    },
    {
      "cell_type": "code",
      "metadata": {
        "colab": {
          "base_uri": "https://localhost:8080/"
        },
        "id": "4EJ70Id-wGtU",
        "outputId": "8d1dd9ee-9f7c-46d5-8850-0601628acb53"
      },
      "source": [
        "print(data['price'])\n"
      ],
      "execution_count": null,
      "outputs": [
        {
          "output_type": "stream",
          "name": "stdout",
          "text": [
            "0     $$$\n",
            "1       $\n",
            "2       $\n",
            "3       $\n",
            "4     $$$\n",
            "5      $$\n",
            "6       $\n",
            "7      $$\n",
            "8       $\n",
            "9     $$$\n",
            "10      $\n",
            "11      $\n",
            "Name: price, dtype: object\n"
          ]
        }
      ]
    },
    {
      "cell_type": "code",
      "metadata": {
        "colab": {
          "base_uri": "https://localhost:8080/"
        },
        "id": "3MXAU6U0wQSS",
        "outputId": "1edd04b9-426d-4d60-9625-492093f14998"
      },
      "source": [
        "print(data.loc[3])\n"
      ],
      "execution_count": null,
      "outputs": [
        {
          "output_type": "stream",
          "name": "stdout",
          "text": [
            "alt         Yes\n",
            "bar          No\n",
            "fri         Yes\n",
            "hun         Yes\n",
            "pat        Full\n",
            "price         $\n",
            "rain         No\n",
            "res          No\n",
            "type       Thai\n",
            "est       10-30\n",
            "target      Yes\n",
            "Name: 3, dtype: object\n"
          ]
        }
      ]
    },
    {
      "cell_type": "code",
      "metadata": {
        "colab": {
          "base_uri": "https://localhost:8080/"
        },
        "id": "uTDUnXZdwrLv",
        "outputId": "5a85fc06-ef82-4868-9c6a-dc95d6a46b1b"
      },
      "source": [
        "print(data.loc[3, 'type'])"
      ],
      "execution_count": null,
      "outputs": [
        {
          "output_type": "stream",
          "name": "stdout",
          "text": [
            "Thai\n"
          ]
        }
      ]
    },
    {
      "cell_type": "code",
      "metadata": {
        "colab": {
          "base_uri": "https://localhost:8080/"
        },
        "id": "73SS338aw8gQ",
        "outputId": "32b88587-13a5-4fd1-ce7f-a1eef9577f25"
      },
      "source": [
        "print(data.loc[3, 'type'])\n"
      ],
      "execution_count": null,
      "outputs": [
        {
          "output_type": "stream",
          "name": "stdout",
          "text": [
            "Thai\n"
          ]
        }
      ]
    },
    {
      "cell_type": "code",
      "metadata": {
        "colab": {
          "base_uri": "https://localhost:8080/"
        },
        "id": "goV8J-2-xZZD",
        "outputId": "fea2aa50-1723-40db-bb29-510facc1162e"
      },
      "source": [
        "print(data.iloc[3,8])"
      ],
      "execution_count": null,
      "outputs": [
        {
          "output_type": "stream",
          "name": "stdout",
          "text": [
            "Thai\n"
          ]
        }
      ]
    },
    {
      "cell_type": "code",
      "metadata": {
        "id": "ElrCdyh4x2WR",
        "colab": {
          "base_uri": "https://localhost:8080/"
        },
        "outputId": "33961ca0-eff5-4d43-90a8-c579a6009d5c"
      },
      "source": [
        "print(data.iloc[3])\n"
      ],
      "execution_count": null,
      "outputs": [
        {
          "output_type": "stream",
          "name": "stdout",
          "text": [
            "alt         Yes\n",
            "bar          No\n",
            "fri         Yes\n",
            "hun         Yes\n",
            "pat        Full\n",
            "price         $\n",
            "rain         No\n",
            "res          No\n",
            "type       Thai\n",
            "est       10-30\n",
            "target      Yes\n",
            "Name: 3, dtype: object\n"
          ]
        }
      ]
    },
    {
      "cell_type": "code",
      "metadata": {
        "colab": {
          "base_uri": "https://localhost:8080/"
        },
        "id": "bzp_0cljzsD7",
        "outputId": "ca936078-8f72-4a14-da44-87dad8c66a17"
      },
      "source": [
        "print(data['est'])\n",
        "      "
      ],
      "execution_count": 26,
      "outputs": [
        {
          "output_type": "stream",
          "name": "stdout",
          "text": [
            "0      0-10\n",
            "1     30-60\n",
            "2      0-10\n",
            "3     10-30\n",
            "4       >60\n",
            "5      0-10\n",
            "6      0-10\n",
            "7      0-10\n",
            "8       >60\n",
            "9     10-30\n",
            "10     0-10\n",
            "11    30-60\n",
            "Name: est, dtype: object\n"
          ]
        }
      ]
    },
    {
      "cell_type": "code",
      "metadata": {
        "colab": {
          "base_uri": "https://localhost:8080/"
        },
        "id": "6Yvg3Jakz2p6",
        "outputId": "20f3fc09-0e2d-447a-c0c3-4a4ed08be32d"
      },
      "source": [
        "data.loc[5]\n"
      ],
      "execution_count": 27,
      "outputs": [
        {
          "output_type": "execute_result",
          "data": {
            "text/plain": [
              "alt            No\n",
              "bar           Yes\n",
              "fri            No\n",
              "hun           Yes\n",
              "pat          Some\n",
              "price          $$\n",
              "rain          Yes\n",
              "res           Yes\n",
              "type      Italian\n",
              "est          0-10\n",
              "target        Yes\n",
              "Name: 5, dtype: object"
            ]
          },
          "metadata": {},
          "execution_count": 27
        }
      ]
    },
    {
      "cell_type": "code",
      "metadata": {
        "colab": {
          "base_uri": "https://localhost:8080/"
        },
        "id": "53ZOfqmSz-dw",
        "outputId": "e8784cd9-3583-49fd-8b8c-2b229222279f"
      },
      "source": [
        "print(type(data))\n",
        "print(type(data['est']))\n",
        "print(type(data.loc[0]))\n",
        "print(type(data.iloc[3,8]))"
      ],
      "execution_count": 28,
      "outputs": [
        {
          "output_type": "stream",
          "name": "stdout",
          "text": [
            "<class 'pandas.core.frame.DataFrame'>\n",
            "<class 'pandas.core.series.Series'>\n",
            "<class 'pandas.core.series.Series'>\n",
            "<class 'str'>\n"
          ]
        }
      ]
    }
  ]
}